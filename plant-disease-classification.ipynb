{
 "cells": [
  {
   "cell_type": "code",
   "execution_count": null,
   "metadata": {},
   "outputs": [],
   "source": [
    "## Plant Disease Classification using Artificial Neural Networks"
   ]
  }
 ],
 "metadata": {
  "kernelspec": {
   "display_name": "Python 3.10.7 64-bit",
   "language": "python",
   "name": "python3"
  },
  "language_info": {
   "name": "python",
   "version": "3.10.7"
  },
  "orig_nbformat": 4,
  "vscode": {
   "interpreter": {
    "hash": "7710edf58a914fd97b103d6784d7ec660e28926278f5ed4dae8f7d7ef0e664f9"
   }
  }
 },
 "nbformat": 4,
 "nbformat_minor": 2
}
